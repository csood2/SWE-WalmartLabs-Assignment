{
 "cells": [
  {
   "cell_type": "code",
   "execution_count": 3,
   "metadata": {},
   "outputs": [],
   "source": [
    "import requests\n",
    "import pandas as pd\n",
    "import numpy as np\n",
    "\n",
    "\n",
    "URL = \"https://api.github.com/repos/walmartlabs/thorax/issues\"\n",
    "\n",
    "# sending get request and saving the response as response object\n",
    "r = requests.get(url = URL)\n",
    "\n",
    "# extracting data in json format\n",
    "data = r.json()\n",
    "\n",
    "db = pd.DataFrame(data)"
   ]
  },
  {
   "cell_type": "code",
   "execution_count": 4,
   "metadata": {},
   "outputs": [
    {
     "data": {
      "text/plain": [
       "4"
      ]
     },
     "execution_count": 4,
     "metadata": {},
     "output_type": "execute_result"
    }
   ],
   "source": [
    "(db.shape[0])//7\n"
   ]
  },
  {
   "cell_type": "code",
   "execution_count": 5,
   "metadata": {},
   "outputs": [
    {
     "data": {
      "text/plain": [
       "(26,)"
      ]
     },
     "execution_count": 5,
     "metadata": {},
     "output_type": "execute_result"
    }
   ],
   "source": [
    "a = np.array(db.columns)\n",
    "a.shape\n",
    "a.flatten()\n",
    "a.shape"
   ]
  },
  {
   "cell_type": "code",
   "execution_count": 50,
   "metadata": {},
   "outputs": [
    {
     "data": {
      "text/plain": [
       "{'login': 'timgates42',\n",
       " 'id': 47873678,\n",
       " 'node_id': 'MDQ6VXNlcjQ3ODczNjc4',\n",
       " 'avatar_url': 'https://avatars1.githubusercontent.com/u/47873678?v=4',\n",
       " 'gravatar_id': '',\n",
       " 'url': 'https://api.github.com/users/timgates42',\n",
       " 'html_url': 'https://github.com/timgates42',\n",
       " 'followers_url': 'https://api.github.com/users/timgates42/followers',\n",
       " 'following_url': 'https://api.github.com/users/timgates42/following{/other_user}',\n",
       " 'gists_url': 'https://api.github.com/users/timgates42/gists{/gist_id}',\n",
       " 'starred_url': 'https://api.github.com/users/timgates42/starred{/owner}{/repo}',\n",
       " 'subscriptions_url': 'https://api.github.com/users/timgates42/subscriptions',\n",
       " 'organizations_url': 'https://api.github.com/users/timgates42/orgs',\n",
       " 'repos_url': 'https://api.github.com/users/timgates42/repos',\n",
       " 'events_url': 'https://api.github.com/users/timgates42/events{/privacy}',\n",
       " 'received_events_url': 'https://api.github.com/users/timgates42/received_events',\n",
       " 'type': 'User',\n",
       " 'site_admin': False}"
      ]
     },
     "execution_count": 50,
     "metadata": {},
     "output_type": "execute_result"
    }
   ],
   "source": [
    "db[\"user\"][0]"
   ]
  },
  {
   "cell_type": "code",
   "execution_count": null,
   "metadata": {},
   "outputs": [],
   "source": []
  },
  {
   "cell_type": "code",
   "execution_count": null,
   "metadata": {},
   "outputs": [],
   "source": []
  },
  {
   "cell_type": "code",
   "execution_count": null,
   "metadata": {},
   "outputs": [],
   "source": []
  },
  {
   "cell_type": "code",
   "execution_count": 6,
   "metadata": {},
   "outputs": [],
   "source": [
    "def get_issue(number, dataframe):\n",
    "    result_issue = db.loc[db['number'] == number]\n",
    "    return result_issue"
   ]
  },
  {
   "cell_type": "code",
   "execution_count": 60,
   "metadata": {},
   "outputs": [
    {
     "name": "stdout",
     "output_type": "stream",
     "text": [
      "0    {'login': 'timgates42', 'id': 47873678, 'node_...\n",
      "Name: user, dtype: object\n"
     ]
    }
   ],
   "source": [
    "print(get_issue(423, db)[\"user\"])\n",
    "\n",
    "\n",
    "\n",
    "\n",
    "\n",
    "\n",
    "\n"
   ]
  },
  {
   "cell_type": "code",
   "execution_count": 103,
   "metadata": {},
   "outputs": [
    {
     "data": {
      "text/html": [
       "<div>\n",
       "<style scoped>\n",
       "    .dataframe tbody tr th:only-of-type {\n",
       "        vertical-align: middle;\n",
       "    }\n",
       "\n",
       "    .dataframe tbody tr th {\n",
       "        vertical-align: top;\n",
       "    }\n",
       "\n",
       "    .dataframe thead th {\n",
       "        text-align: right;\n",
       "    }\n",
       "</style>\n",
       "<table border=\"1\" class=\"dataframe\">\n",
       "  <thead>\n",
       "    <tr style=\"text-align: right;\">\n",
       "      <th></th>\n",
       "      <th>key</th>\n",
       "      <th>0</th>\n",
       "    </tr>\n",
       "  </thead>\n",
       "  <tbody>\n",
       "    <tr>\n",
       "      <th>0</th>\n",
       "      <td>login</td>\n",
       "      <td>timgates42</td>\n",
       "    </tr>\n",
       "    <tr>\n",
       "      <th>1</th>\n",
       "      <td>id</td>\n",
       "      <td>47873678</td>\n",
       "    </tr>\n",
       "    <tr>\n",
       "      <th>2</th>\n",
       "      <td>node_id</td>\n",
       "      <td>MDQ6VXNlcjQ3ODczNjc4</td>\n",
       "    </tr>\n",
       "    <tr>\n",
       "      <th>3</th>\n",
       "      <td>avatar_url</td>\n",
       "      <td>https://avatars1.githubusercontent.com/u/47873...</td>\n",
       "    </tr>\n",
       "    <tr>\n",
       "      <th>4</th>\n",
       "      <td>gravatar_id</td>\n",
       "      <td></td>\n",
       "    </tr>\n",
       "    <tr>\n",
       "      <th>5</th>\n",
       "      <td>url</td>\n",
       "      <td>https://api.github.com/users/timgates42</td>\n",
       "    </tr>\n",
       "    <tr>\n",
       "      <th>6</th>\n",
       "      <td>html_url</td>\n",
       "      <td>https://github.com/timgates42</td>\n",
       "    </tr>\n",
       "    <tr>\n",
       "      <th>7</th>\n",
       "      <td>followers_url</td>\n",
       "      <td>https://api.github.com/users/timgates42/followers</td>\n",
       "    </tr>\n",
       "    <tr>\n",
       "      <th>8</th>\n",
       "      <td>following_url</td>\n",
       "      <td>https://api.github.com/users/timgates42/follow...</td>\n",
       "    </tr>\n",
       "    <tr>\n",
       "      <th>9</th>\n",
       "      <td>gists_url</td>\n",
       "      <td>https://api.github.com/users/timgates42/gists{...</td>\n",
       "    </tr>\n",
       "    <tr>\n",
       "      <th>10</th>\n",
       "      <td>starred_url</td>\n",
       "      <td>https://api.github.com/users/timgates42/starre...</td>\n",
       "    </tr>\n",
       "    <tr>\n",
       "      <th>11</th>\n",
       "      <td>subscriptions_url</td>\n",
       "      <td>https://api.github.com/users/timgates42/subscr...</td>\n",
       "    </tr>\n",
       "    <tr>\n",
       "      <th>12</th>\n",
       "      <td>organizations_url</td>\n",
       "      <td>https://api.github.com/users/timgates42/orgs</td>\n",
       "    </tr>\n",
       "    <tr>\n",
       "      <th>13</th>\n",
       "      <td>repos_url</td>\n",
       "      <td>https://api.github.com/users/timgates42/repos</td>\n",
       "    </tr>\n",
       "    <tr>\n",
       "      <th>14</th>\n",
       "      <td>events_url</td>\n",
       "      <td>https://api.github.com/users/timgates42/events...</td>\n",
       "    </tr>\n",
       "    <tr>\n",
       "      <th>15</th>\n",
       "      <td>received_events_url</td>\n",
       "      <td>https://api.github.com/users/timgates42/receiv...</td>\n",
       "    </tr>\n",
       "    <tr>\n",
       "      <th>16</th>\n",
       "      <td>type</td>\n",
       "      <td>User</td>\n",
       "    </tr>\n",
       "    <tr>\n",
       "      <th>17</th>\n",
       "      <td>site_admin</td>\n",
       "      <td>False</td>\n",
       "    </tr>\n",
       "  </tbody>\n",
       "</table>\n",
       "</div>"
      ],
      "text/plain": [
       "                    key                                                  0\n",
       "0                 login                                         timgates42\n",
       "1                    id                                           47873678\n",
       "2               node_id                               MDQ6VXNlcjQ3ODczNjc4\n",
       "3            avatar_url  https://avatars1.githubusercontent.com/u/47873...\n",
       "4           gravatar_id                                                   \n",
       "5                   url            https://api.github.com/users/timgates42\n",
       "6              html_url                      https://github.com/timgates42\n",
       "7         followers_url  https://api.github.com/users/timgates42/followers\n",
       "8         following_url  https://api.github.com/users/timgates42/follow...\n",
       "9             gists_url  https://api.github.com/users/timgates42/gists{...\n",
       "10          starred_url  https://api.github.com/users/timgates42/starre...\n",
       "11    subscriptions_url  https://api.github.com/users/timgates42/subscr...\n",
       "12    organizations_url       https://api.github.com/users/timgates42/orgs\n",
       "13            repos_url      https://api.github.com/users/timgates42/repos\n",
       "14           events_url  https://api.github.com/users/timgates42/events...\n",
       "15  received_events_url  https://api.github.com/users/timgates42/receiv...\n",
       "16                 type                                               User\n",
       "17           site_admin                                              False"
      ]
     },
     "execution_count": 103,
     "metadata": {},
     "output_type": "execute_result"
    }
   ],
   "source": [
    "user_json = get_issue(423, db)[\"user\"]\n",
    "user_json = user_json.values[0]\n",
    "user_json\n",
    "\n",
    "dict= pd.DataFrame.from_dict(user_json, orient=\"index\")\n",
    "dict.index.name = 'key'\n",
    "dict.reset_index(inplace=True)\n",
    "dict\n"
   ]
  },
  {
   "cell_type": "code",
   "execution_count": 47,
   "metadata": {},
   "outputs": [
    {
     "data": {
      "text/plain": [
       "'docs: Fix simple typo, supoprted -> supported'"
      ]
     },
     "execution_count": 47,
     "metadata": {},
     "output_type": "execute_result"
    }
   ],
   "source": [
    "result_df = pd.DataFrame({'keys':a, 'values':c})\n",
    "result_df\n",
    "result_df.loc[result_df['keys'] == 'title'].values[0][1]\n",
    "\n",
    "\n"
   ]
  },
  {
   "cell_type": "code",
   "execution_count": 9,
   "metadata": {},
   "outputs": [
    {
     "ename": "NameError",
     "evalue": "name 'images' is not defined",
     "output_type": "error",
     "traceback": [
      "\u001b[0;31m---------------------------------------------------------------------------\u001b[0m",
      "\u001b[0;31mNameError\u001b[0m                                 Traceback (most recent call last)",
      "\u001b[0;32m<ipython-input-9-4d344056da11>\u001b[0m in \u001b[0;36m<module>\u001b[0;34m\u001b[0m\n\u001b[0;32m----> 1\u001b[0;31m \u001b[0mimages\u001b[0m \u001b[0;34m=\u001b[0m \u001b[0mnp\u001b[0m\u001b[0;34m.\u001b[0m\u001b[0marray\u001b[0m\u001b[0;34m(\u001b[0m\u001b[0mimages\u001b[0m\u001b[0;34m)\u001b[0m\u001b[0;34m\u001b[0m\u001b[0;34m\u001b[0m\u001b[0m\n\u001b[0m\u001b[1;32m      2\u001b[0m \u001b[0mlabel\u001b[0m \u001b[0;34m=\u001b[0m \u001b[0mnp\u001b[0m\u001b[0;34m.\u001b[0m\u001b[0marray\u001b[0m\u001b[0;34m(\u001b[0m\u001b[0mlabel\u001b[0m\u001b[0;34m)\u001b[0m\u001b[0;34m\u001b[0m\u001b[0;34m\u001b[0m\u001b[0m\n\u001b[1;32m      3\u001b[0m \u001b[0mdataset\u001b[0m \u001b[0;34m=\u001b[0m \u001b[0mpd\u001b[0m\u001b[0;34m.\u001b[0m\u001b[0mDataFrame\u001b[0m\u001b[0;34m(\u001b[0m\u001b[0;34m{\u001b[0m\u001b[0;34m'label'\u001b[0m\u001b[0;34m:\u001b[0m \u001b[0mlabel\u001b[0m\u001b[0;34m,\u001b[0m \u001b[0;34m'images'\u001b[0m\u001b[0;34m:\u001b[0m \u001b[0mlist\u001b[0m\u001b[0;34m(\u001b[0m\u001b[0mimages\u001b[0m\u001b[0;34m)\u001b[0m\u001b[0;34m}\u001b[0m\u001b[0;34m,\u001b[0m \u001b[0mcolumns\u001b[0m\u001b[0;34m=\u001b[0m\u001b[0;34m[\u001b[0m\u001b[0;34m'label'\u001b[0m\u001b[0;34m,\u001b[0m \u001b[0;34m'images'\u001b[0m\u001b[0;34m]\u001b[0m\u001b[0;34m)\u001b[0m\u001b[0;34m\u001b[0m\u001b[0;34m\u001b[0m\u001b[0m\n",
      "\u001b[0;31mNameError\u001b[0m: name 'images' is not defined"
     ]
    }
   ],
   "source": [
    "images = np.array(images)\n",
    "label = np.array(label)\n",
    "dataset = pd.DataFrame({'label': label, 'images': list(images)}, columns=['label', 'images'])"
   ]
  },
  {
   "cell_type": "code",
   "execution_count": 10,
   "metadata": {},
   "outputs": [
    {
     "data": {
      "text/plain": [
       "[890, 900]"
      ]
     },
     "execution_count": 10,
     "metadata": {},
     "output_type": "execute_result"
    }
   ],
   "source": [
    "def paginator(page_num):\n",
    "    rows = db.shape[0]\n",
    "    num_pages = rows//10\n",
    "    num_lastpg = rows%10\n",
    "\n",
    "    start_index = (page_num-1)*10;\n",
    "    end_index = start_index + 10\n",
    "    arr_result = [start_index, end_index]\n",
    "        \n",
    "    return arr_result\n",
    "\n",
    "paginator(90)"
   ]
  },
  {
   "cell_type": "code",
   "execution_count": 8,
   "metadata": {},
   "outputs": [
    {
     "data": {
      "text/plain": [
       "[1]"
      ]
     },
     "execution_count": 8,
     "metadata": {},
     "output_type": "execute_result"
    }
   ],
   "source": [
    "def page_num_array(count_rows):\n",
    "    num_pages = (count_rows//10)\n",
    "    num_left = count_rows%10\n",
    "    if (num_left > 0):\n",
    "        num_pages+=1\n",
    "        \n",
    "    if (num_pages == 0):\n",
    "        num_pages = 1\n",
    "    arr = list(range(1,num_pages+1))\n",
    "    return arr\n",
    "\n",
    "page_num_array(0)"
   ]
  },
  {
   "cell_type": "code",
   "execution_count": null,
   "metadata": {},
   "outputs": [],
   "source": []
  },
  {
   "cell_type": "code",
   "execution_count": null,
   "metadata": {},
   "outputs": [],
   "source": []
  },
  {
   "cell_type": "code",
   "execution_count": null,
   "metadata": {},
   "outputs": [],
   "source": []
  },
  {
   "cell_type": "code",
   "execution_count": null,
   "metadata": {},
   "outputs": [],
   "source": []
  },
  {
   "cell_type": "code",
   "execution_count": null,
   "metadata": {},
   "outputs": [],
   "source": []
  },
  {
   "cell_type": "code",
   "execution_count": null,
   "metadata": {},
   "outputs": [],
   "source": []
  }
 ],
 "metadata": {
  "kernelspec": {
   "display_name": "Python 3",
   "language": "python",
   "name": "python3"
  },
  "language_info": {
   "codemirror_mode": {
    "name": "ipython",
    "version": 3
   },
   "file_extension": ".py",
   "mimetype": "text/x-python",
   "name": "python",
   "nbconvert_exporter": "python",
   "pygments_lexer": "ipython3",
   "version": "3.8.3"
  }
 },
 "nbformat": 4,
 "nbformat_minor": 4
}
