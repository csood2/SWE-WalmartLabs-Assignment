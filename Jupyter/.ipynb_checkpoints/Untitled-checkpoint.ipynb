{
 "cells": [
  {
   "cell_type": "code",
   "execution_count": 26,
   "metadata": {},
   "outputs": [],
   "source": [
    "import requests\n",
    "import pandas as pd\n",
    "\n",
    "\n",
    "URL = \"https://api.github.com/repos/walmartlabs/thorax/issues\"\n",
    "\n",
    "# sending get request and saving the response as response object\n",
    "r = requests.get(url = URL)\n",
    "\n",
    "# extracting data in json format\n",
    "data = r.json()\n",
    "\n",
    "db = pd.DataFrame(data)"
   ]
  },
  {
   "cell_type": "code",
   "execution_count": 48,
   "metadata": {},
   "outputs": [
    {
     "data": {
      "text/plain": [
       "4"
      ]
     },
     "execution_count": 48,
     "metadata": {},
     "output_type": "execute_result"
    }
   ],
   "source": [
    "(db.shape[0])//7\n"
   ]
  },
  {
   "cell_type": "code",
   "execution_count": 31,
   "metadata": {},
   "outputs": [],
   "source": [
    "def get_issue(number, dataframe):\n",
    "    result_issue = db.loc[db['number'] == number]\n",
    "    return result_issue"
   ]
  },
  {
   "cell_type": "code",
   "execution_count": 32,
   "metadata": {},
   "outputs": [
    {
     "data": {
      "text/plain": [
       "'docs: Fix simple typo, supoprted -> supported'"
      ]
     },
     "execution_count": 32,
     "metadata": {},
     "output_type": "execute_result"
    }
   ],
   "source": [
    "get_issue(423, db)[\"title\"][0]"
   ]
  },
  {
   "cell_type": "code",
   "execution_count": 51,
   "metadata": {},
   "outputs": [
    {
     "data": {
      "text/plain": [
       "[40, 50, 1, 2, 3]"
      ]
     },
     "execution_count": 51,
     "metadata": {},
     "output_type": "execute_result"
    }
   ],
   "source": [
    "def paginator(page_num):\n",
    "    rows = db.shape[0]\n",
    "    num_pages = rows//10\n",
    "    num_lastpg = rows%10\n",
    "\n",
    "    start_index = (page_num-1)*10;\n",
    "    end_index = start_index + 10\n",
    "    arr_result = [start_index, end_index]\n",
    "    for i in range(1, num_pages+1):\n",
    "        arr_result.append(i)\n",
    "        \n",
    "    return arr_result\n",
    "\n",
    "paginator(5)"
   ]
  },
  {
   "cell_type": "code",
   "execution_count": 58,
   "metadata": {},
   "outputs": [
    {
     "data": {
      "text/plain": [
       "[1, 2, 3, 4]"
      ]
     },
     "execution_count": 58,
     "metadata": {},
     "output_type": "execute_result"
    }
   ],
   "source": [
    "def page_num_array(count_rows):\n",
    "    num_pages = (count_rows//10)\n",
    "    arr = list(range(1,num_pages+1))\n",
    "    return arr\n",
    "\n",
    "page_num_array(30)"
   ]
  },
  {
   "cell_type": "code",
   "execution_count": null,
   "metadata": {},
   "outputs": [],
   "source": []
  }
 ],
 "metadata": {
  "kernelspec": {
   "display_name": "Python 3",
   "language": "python",
   "name": "python3"
  },
  "language_info": {
   "codemirror_mode": {
    "name": "ipython",
    "version": 3
   },
   "file_extension": ".py",
   "mimetype": "text/x-python",
   "name": "python",
   "nbconvert_exporter": "python",
   "pygments_lexer": "ipython3",
   "version": "3.8.3"
  }
 },
 "nbformat": 4,
 "nbformat_minor": 4
}
