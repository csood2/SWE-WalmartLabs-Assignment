{
 "cells": [
  {
   "cell_type": "code",
   "execution_count": 3,
   "metadata": {},
   "outputs": [],
   "source": [
    "import requests\n",
    "import pandas as pd\n",
    "import numpy as np\n",
    "\n",
    "\n",
    "URL = \"https://api.github.com/repos/walmartlabs/thorax/issues\"\n",
    "\n",
    "# sending get request and saving the response as response object\n",
    "r = requests.get(url = URL)\n",
    "\n",
    "# extracting data in json format\n",
    "data = r.json()\n",
    "\n",
    "db = pd.DataFrame(data)"
   ]
  },
  {
   "cell_type": "code",
   "execution_count": 4,
   "metadata": {},
   "outputs": [
    {
     "data": {
      "text/plain": [
       "4"
      ]
     },
     "execution_count": 4,
     "metadata": {},
     "output_type": "execute_result"
    }
   ],
   "source": [
    "(db.shape[0])//7\n"
   ]
  },
  {
   "cell_type": "code",
   "execution_count": 5,
   "metadata": {},
   "outputs": [
    {
     "data": {
      "text/plain": [
       "(26,)"
      ]
     },
     "execution_count": 5,
     "metadata": {},
     "output_type": "execute_result"
    }
   ],
   "source": [
    "a = np.array(db.columns)\n",
    "a.shape\n",
    "a.flatten()\n",
    "a.shape"
   ]
  },
  {
   "cell_type": "code",
   "execution_count": null,
   "metadata": {},
   "outputs": [],
   "source": []
  },
  {
   "cell_type": "code",
   "execution_count": null,
   "metadata": {},
   "outputs": [],
   "source": []
  },
  {
   "cell_type": "code",
   "execution_count": null,
   "metadata": {},
   "outputs": [],
   "source": []
  },
  {
   "cell_type": "code",
   "execution_count": null,
   "metadata": {},
   "outputs": [],
   "source": []
  },
  {
   "cell_type": "code",
   "execution_count": 6,
   "metadata": {},
   "outputs": [],
   "source": [
    "def get_issue(number, dataframe):\n",
    "    result_issue = db.loc[db['number'] == number]\n",
    "    return result_issue"
   ]
  },
  {
   "cell_type": "code",
   "execution_count": 11,
   "metadata": {},
   "outputs": [
    {
     "name": "stdout",
     "output_type": "stream",
     "text": [
      "                                                 url  \\\n",
      "0  https://api.github.com/repos/walmartlabs/thora...   \n",
      "\n",
      "                                    repository_url  \\\n",
      "0  https://api.github.com/repos/walmartlabs/thorax   \n",
      "\n",
      "                                          labels_url  \\\n",
      "0  https://api.github.com/repos/walmartlabs/thora...   \n",
      "\n",
      "                                        comments_url  \\\n",
      "0  https://api.github.com/repos/walmartlabs/thora...   \n",
      "\n",
      "                                          events_url  \\\n",
      "0  https://api.github.com/repos/walmartlabs/thora...   \n",
      "\n",
      "                                         html_url         id  \\\n",
      "0  https://github.com/walmartlabs/thorax/pull/423  595383577   \n",
      "\n",
      "                            node_id  number  \\\n",
      "0  MDExOlB1bGxSZXF1ZXN0Mzk5ODY5MTQx     423   \n",
      "\n",
      "                                           title  ... milestone comments  \\\n",
      "0  docs: Fix simple typo, supoprted -> supported  ...      None        1   \n",
      "\n",
      "             created_at            updated_at closed_at author_association  \\\n",
      "0  2020-04-06T19:50:54Z  2020-04-06T21:10:22Z      None               NONE   \n",
      "\n",
      "  active_lock_reason                                       pull_request  \\\n",
      "0               None  {'url': 'https://api.github.com/repos/walmartl...   \n",
      "\n",
      "                                                body performed_via_github_app  \n",
      "0  There is a small typo in src/helper-view.js.\\n...                     None  \n",
      "\n",
      "[1 rows x 26 columns]\n"
     ]
    },
    {
     "data": {
      "text/plain": [
       "(26,)"
      ]
     },
     "execution_count": 11,
     "metadata": {},
     "output_type": "execute_result"
    }
   ],
   "source": [
    "print(get_issue(423, db))\n",
    "b = np.array(get_issue(423, db))\n",
    "b.shape\n",
    "\n",
    "\n",
    "b = b.transpose()\n",
    "c = b[:,0]\n",
    "c.shape"
   ]
  },
  {
   "cell_type": "code",
   "execution_count": 46,
   "metadata": {},
   "outputs": [
    {
     "data": {
      "text/plain": [
       "array([['title', 'docs: Fix simple typo, supoprted -> supported']],\n",
       "      dtype=object)"
      ]
     },
     "execution_count": 46,
     "metadata": {},
     "output_type": "execute_result"
    }
   ],
   "source": [
    "result_df = pd.DataFrame({'keys':a, 'values':c})\n",
    "result_df\n",
    "result_df.loc[result_df['keys'] == 'title'].values[0][1]\n",
    "\n",
    "\n"
   ]
  },
  {
   "cell_type": "code",
   "execution_count": 9,
   "metadata": {},
   "outputs": [
    {
     "ename": "NameError",
     "evalue": "name 'images' is not defined",
     "output_type": "error",
     "traceback": [
      "\u001b[0;31m---------------------------------------------------------------------------\u001b[0m",
      "\u001b[0;31mNameError\u001b[0m                                 Traceback (most recent call last)",
      "\u001b[0;32m<ipython-input-9-4d344056da11>\u001b[0m in \u001b[0;36m<module>\u001b[0;34m\u001b[0m\n\u001b[0;32m----> 1\u001b[0;31m \u001b[0mimages\u001b[0m \u001b[0;34m=\u001b[0m \u001b[0mnp\u001b[0m\u001b[0;34m.\u001b[0m\u001b[0marray\u001b[0m\u001b[0;34m(\u001b[0m\u001b[0mimages\u001b[0m\u001b[0;34m)\u001b[0m\u001b[0;34m\u001b[0m\u001b[0;34m\u001b[0m\u001b[0m\n\u001b[0m\u001b[1;32m      2\u001b[0m \u001b[0mlabel\u001b[0m \u001b[0;34m=\u001b[0m \u001b[0mnp\u001b[0m\u001b[0;34m.\u001b[0m\u001b[0marray\u001b[0m\u001b[0;34m(\u001b[0m\u001b[0mlabel\u001b[0m\u001b[0;34m)\u001b[0m\u001b[0;34m\u001b[0m\u001b[0;34m\u001b[0m\u001b[0m\n\u001b[1;32m      3\u001b[0m \u001b[0mdataset\u001b[0m \u001b[0;34m=\u001b[0m \u001b[0mpd\u001b[0m\u001b[0;34m.\u001b[0m\u001b[0mDataFrame\u001b[0m\u001b[0;34m(\u001b[0m\u001b[0;34m{\u001b[0m\u001b[0;34m'label'\u001b[0m\u001b[0;34m:\u001b[0m \u001b[0mlabel\u001b[0m\u001b[0;34m,\u001b[0m \u001b[0;34m'images'\u001b[0m\u001b[0;34m:\u001b[0m \u001b[0mlist\u001b[0m\u001b[0;34m(\u001b[0m\u001b[0mimages\u001b[0m\u001b[0;34m)\u001b[0m\u001b[0;34m}\u001b[0m\u001b[0;34m,\u001b[0m \u001b[0mcolumns\u001b[0m\u001b[0;34m=\u001b[0m\u001b[0;34m[\u001b[0m\u001b[0;34m'label'\u001b[0m\u001b[0;34m,\u001b[0m \u001b[0;34m'images'\u001b[0m\u001b[0;34m]\u001b[0m\u001b[0;34m)\u001b[0m\u001b[0;34m\u001b[0m\u001b[0;34m\u001b[0m\u001b[0m\n",
      "\u001b[0;31mNameError\u001b[0m: name 'images' is not defined"
     ]
    }
   ],
   "source": [
    "images = np.array(images)\n",
    "label = np.array(label)\n",
    "dataset = pd.DataFrame({'label': label, 'images': list(images)}, columns=['label', 'images'])"
   ]
  },
  {
   "cell_type": "code",
   "execution_count": 10,
   "metadata": {},
   "outputs": [
    {
     "data": {
      "text/plain": [
       "[890, 900]"
      ]
     },
     "execution_count": 10,
     "metadata": {},
     "output_type": "execute_result"
    }
   ],
   "source": [
    "def paginator(page_num):\n",
    "    rows = db.shape[0]\n",
    "    num_pages = rows//10\n",
    "    num_lastpg = rows%10\n",
    "\n",
    "    start_index = (page_num-1)*10;\n",
    "    end_index = start_index + 10\n",
    "    arr_result = [start_index, end_index]\n",
    "        \n",
    "    return arr_result\n",
    "\n",
    "paginator(90)"
   ]
  },
  {
   "cell_type": "code",
   "execution_count": 8,
   "metadata": {},
   "outputs": [
    {
     "data": {
      "text/plain": [
       "[1]"
      ]
     },
     "execution_count": 8,
     "metadata": {},
     "output_type": "execute_result"
    }
   ],
   "source": [
    "def page_num_array(count_rows):\n",
    "    num_pages = (count_rows//10)\n",
    "    num_left = count_rows%10\n",
    "    if (num_left > 0):\n",
    "        num_pages+=1\n",
    "        \n",
    "    if (num_pages == 0):\n",
    "        num_pages = 1\n",
    "    arr = list(range(1,num_pages+1))\n",
    "    return arr\n",
    "\n",
    "page_num_array(0)"
   ]
  },
  {
   "cell_type": "code",
   "execution_count": null,
   "metadata": {},
   "outputs": [],
   "source": []
  },
  {
   "cell_type": "code",
   "execution_count": null,
   "metadata": {},
   "outputs": [],
   "source": []
  },
  {
   "cell_type": "code",
   "execution_count": null,
   "metadata": {},
   "outputs": [],
   "source": []
  },
  {
   "cell_type": "code",
   "execution_count": null,
   "metadata": {},
   "outputs": [],
   "source": []
  },
  {
   "cell_type": "code",
   "execution_count": null,
   "metadata": {},
   "outputs": [],
   "source": []
  },
  {
   "cell_type": "code",
   "execution_count": null,
   "metadata": {},
   "outputs": [],
   "source": []
  }
 ],
 "metadata": {
  "kernelspec": {
   "display_name": "Python 3",
   "language": "python",
   "name": "python3"
  },
  "language_info": {
   "codemirror_mode": {
    "name": "ipython",
    "version": 3
   },
   "file_extension": ".py",
   "mimetype": "text/x-python",
   "name": "python",
   "nbconvert_exporter": "python",
   "pygments_lexer": "ipython3",
   "version": "3.8.3"
  }
 },
 "nbformat": 4,
 "nbformat_minor": 4
}
